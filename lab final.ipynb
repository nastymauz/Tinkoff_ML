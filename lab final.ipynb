{
 "cells": [
  {
   "cell_type": "markdown",
   "id": "ab81bd72",
   "metadata": {},
   "source": [
    "# Лабораторная работа"
   ]
  },
  {
   "cell_type": "markdown",
   "id": "5a2559c4",
   "metadata": {},
   "source": [
    "## Описание задания"
   ]
  },
  {
   "cell_type": "markdown",
   "id": "aa5738f3",
   "metadata": {},
   "source": [
    "Требуется обучить модель, которая сможет предсказать популярность объявления - исходя из этих предсказаний аналитики риэлторской компании будут редактировать описания объявлений, выставляемых на этой платформе."
   ]
  },
  {
   "cell_type": "markdown",
   "id": "3335dea5",
   "metadata": {},
   "source": [
    "## Из чего состоит задание?"
   ]
  },
  {
   "cell_type": "markdown",
   "id": "d87eff87",
   "metadata": {},
   "source": [
    "Всего в лабораторной работе 5 частей:\n",
    "\n",
    "- EDA - необходимо исследовать данные в предлагаемом Вам датасете. К исследованию данных относится анализ распределения значений в признаках, проверка скоррелированности признаков и т.д.\n",
    "- Feature engineering - необходимо заполнить пропуски в данных, обработать категориальные признаки и т.д.\n",
    "- Выбор целевой метрики - необходимо выбрать метрику качества, которую вы будете оптимизировать. Для выбранной метрики необходимо написать пояснение. В этом задании нет единственного правильного ответа, однако за откровенно неадекватный выбор или слабую аргументацию будут снижаться баллы.\n",
    "- Проведение экспериментов - необходимо попробовать разные модели, изученные в рамках курса и оптимизировать ими выбранную вами целевую метрику. Решение, состоящее только из grid-search по гиперпараметрам Catboost, получает 0 баллов.\n",
    "- Анализ ошибок модели - необходимо взять несколько примеров из тестовой части датасета, на которых модель дала неправильный ответ, и попытаться проанализировать их, найти закономерности, полученные выводы проверить на других примерах."
   ]
  },
  {
   "cell_type": "markdown",
   "id": "f88a0aa2",
   "metadata": {},
   "source": [
    "## EDA"
   ]
  },
  {
   "cell_type": "code",
   "execution_count": 1,
   "id": "e2cae3d2",
   "metadata": {},
   "outputs": [],
   "source": [
    "import numpy as np\n",
    "import pandas as pd\n",
    "import matplotlib.pyplot as plt\n",
    "import seaborn as sns"
   ]
  },
  {
   "cell_type": "code",
   "execution_count": 2,
   "id": "534dd92f",
   "metadata": {},
   "outputs": [],
   "source": [
    "X = pd.read_csv('/Users/anastasiamyskina/Downloads/houses_ads_popularity.csv')"
   ]
  },
  {
   "cell_type": "code",
   "execution_count": 3,
   "id": "a6e12525",
   "metadata": {},
   "outputs": [
    {
     "data": {
      "text/html": [
       "<div>\n",
       "<style scoped>\n",
       "    .dataframe tbody tr th:only-of-type {\n",
       "        vertical-align: middle;\n",
       "    }\n",
       "\n",
       "    .dataframe tbody tr th {\n",
       "        vertical-align: top;\n",
       "    }\n",
       "\n",
       "    .dataframe thead th {\n",
       "        text-align: right;\n",
       "    }\n",
       "</style>\n",
       "<table border=\"1\" class=\"dataframe\">\n",
       "  <thead>\n",
       "    <tr style=\"text-align: right;\">\n",
       "      <th></th>\n",
       "      <th>Id</th>\n",
       "      <th>bathrooms</th>\n",
       "      <th>bedrooms</th>\n",
       "      <th>building_id</th>\n",
       "      <th>created</th>\n",
       "      <th>description</th>\n",
       "      <th>display_address</th>\n",
       "      <th>features</th>\n",
       "      <th>latitude</th>\n",
       "      <th>listing_id</th>\n",
       "      <th>longitude</th>\n",
       "      <th>manager_id</th>\n",
       "      <th>photos</th>\n",
       "      <th>price</th>\n",
       "      <th>street_address</th>\n",
       "      <th>TARGET</th>\n",
       "    </tr>\n",
       "  </thead>\n",
       "  <tbody>\n",
       "    <tr>\n",
       "      <th>0</th>\n",
       "      <td>57094</td>\n",
       "      <td>1.0</td>\n",
       "      <td>3</td>\n",
       "      <td>0</td>\n",
       "      <td>2016-05-19 18:06:27</td>\n",
       "      <td>A FABULOUS 3BR IN MIDTOWN WEST!   PERFECT APAR...</td>\n",
       "      <td>HOW AMAZING IS THIS MIDTOWN WEST STEAL!! NO FE...</td>\n",
       "      <td>['Laundry In Unit', 'No Fee', 'Elevator']</td>\n",
       "      <td>40.7647</td>\n",
       "      <td>7039994</td>\n",
       "      <td>-73.9918</td>\n",
       "      <td>4bdc3d8c1aaa90d997ce2cb77680679b</td>\n",
       "      <td>['https://photos.renthop.com/2/7039994_07be01b...</td>\n",
       "      <td>4495</td>\n",
       "      <td>W 50 &amp; AVE 10</td>\n",
       "      <td>medium</td>\n",
       "    </tr>\n",
       "    <tr>\n",
       "      <th>1</th>\n",
       "      <td>33389</td>\n",
       "      <td>1.0</td>\n",
       "      <td>1</td>\n",
       "      <td>9225efdfb57a50bf3ec17ebab082f94a</td>\n",
       "      <td>2016-06-16 02:01:49</td>\n",
       "      <td>Renovated Kitchen and Bathroom!</td>\n",
       "      <td>55 River Drive South</td>\n",
       "      <td>['Dogs Allowed', 'Cats Allowed', 'No Fee']</td>\n",
       "      <td>40.7275</td>\n",
       "      <td>7166774</td>\n",
       "      <td>-74.0322</td>\n",
       "      <td>e5808a5e6cc13988fe596704428d38d5</td>\n",
       "      <td>['https://photos.renthop.com/2/7166774_03cf63a...</td>\n",
       "      <td>2570</td>\n",
       "      <td>55 River Drive South</td>\n",
       "      <td>medium</td>\n",
       "    </tr>\n",
       "    <tr>\n",
       "      <th>2</th>\n",
       "      <td>60458</td>\n",
       "      <td>1.0</td>\n",
       "      <td>0</td>\n",
       "      <td>320de7d3cc88e50a7fbbcfde1e825d21</td>\n",
       "      <td>2016-05-04 02:42:50</td>\n",
       "      <td>RARE AND BEST DEAL ON THE MARKET!!!! PERFECT S...</td>\n",
       "      <td>W 77 Street</td>\n",
       "      <td>['Elevator', 'Hardwood Floors']</td>\n",
       "      <td>40.7798</td>\n",
       "      <td>6962716</td>\n",
       "      <td>-73.9751</td>\n",
       "      <td>d69d4e111612dd12ef864031c1148543</td>\n",
       "      <td>['https://photos.renthop.com/2/6962716_ec7f56f...</td>\n",
       "      <td>1795</td>\n",
       "      <td>22 W 77 Street</td>\n",
       "      <td>low</td>\n",
       "    </tr>\n",
       "    <tr>\n",
       "      <th>3</th>\n",
       "      <td>53048</td>\n",
       "      <td>1.0</td>\n",
       "      <td>2</td>\n",
       "      <td>ce6d18bf3238e668b2bf23f4110b7b67</td>\n",
       "      <td>2016-05-12 05:57:56</td>\n",
       "      <td>Newly renovated flex 2 apartment offers the ne...</td>\n",
       "      <td>John Street</td>\n",
       "      <td>['Swimming Pool', 'Doorman', 'Elevator', 'Fitn...</td>\n",
       "      <td>40.7081</td>\n",
       "      <td>7002458</td>\n",
       "      <td>-74.0065</td>\n",
       "      <td>e6472c7237327dd3903b3d6f6a94515a</td>\n",
       "      <td>['https://photos.renthop.com/2/7002458_93f4010...</td>\n",
       "      <td>3400</td>\n",
       "      <td>100 John Street</td>\n",
       "      <td>low</td>\n",
       "    </tr>\n",
       "    <tr>\n",
       "      <th>4</th>\n",
       "      <td>592</td>\n",
       "      <td>1.0</td>\n",
       "      <td>3</td>\n",
       "      <td>fee4d465932160318364d9d48d272879</td>\n",
       "      <td>2016-06-16 06:06:15</td>\n",
       "      <td>LOW FEE apartments do not come around like thi...</td>\n",
       "      <td>West 16th Street</td>\n",
       "      <td>['Laundry in Building', 'Laundry in Unit', 'Di...</td>\n",
       "      <td>40.7416</td>\n",
       "      <td>7170465</td>\n",
       "      <td>-74.0025</td>\n",
       "      <td>6fba9b3a8327c607b8b043716efee684</td>\n",
       "      <td>['https://photos.renthop.com/2/7170465_9c3f173...</td>\n",
       "      <td>5695</td>\n",
       "      <td>321 West 16th Street</td>\n",
       "      <td>low</td>\n",
       "    </tr>\n",
       "  </tbody>\n",
       "</table>\n",
       "</div>"
      ],
      "text/plain": [
       "      Id  bathrooms  bedrooms                       building_id  \\\n",
       "0  57094        1.0         3                                 0   \n",
       "1  33389        1.0         1  9225efdfb57a50bf3ec17ebab082f94a   \n",
       "2  60458        1.0         0  320de7d3cc88e50a7fbbcfde1e825d21   \n",
       "3  53048        1.0         2  ce6d18bf3238e668b2bf23f4110b7b67   \n",
       "4    592        1.0         3  fee4d465932160318364d9d48d272879   \n",
       "\n",
       "               created                                        description  \\\n",
       "0  2016-05-19 18:06:27  A FABULOUS 3BR IN MIDTOWN WEST!   PERFECT APAR...   \n",
       "1  2016-06-16 02:01:49                    Renovated Kitchen and Bathroom!   \n",
       "2  2016-05-04 02:42:50  RARE AND BEST DEAL ON THE MARKET!!!! PERFECT S...   \n",
       "3  2016-05-12 05:57:56  Newly renovated flex 2 apartment offers the ne...   \n",
       "4  2016-06-16 06:06:15  LOW FEE apartments do not come around like thi...   \n",
       "\n",
       "                                     display_address  \\\n",
       "0  HOW AMAZING IS THIS MIDTOWN WEST STEAL!! NO FE...   \n",
       "1                               55 River Drive South   \n",
       "2                                        W 77 Street   \n",
       "3                                        John Street   \n",
       "4                                   West 16th Street   \n",
       "\n",
       "                                            features  latitude  listing_id  \\\n",
       "0          ['Laundry In Unit', 'No Fee', 'Elevator']   40.7647     7039994   \n",
       "1         ['Dogs Allowed', 'Cats Allowed', 'No Fee']   40.7275     7166774   \n",
       "2                    ['Elevator', 'Hardwood Floors']   40.7798     6962716   \n",
       "3  ['Swimming Pool', 'Doorman', 'Elevator', 'Fitn...   40.7081     7002458   \n",
       "4  ['Laundry in Building', 'Laundry in Unit', 'Di...   40.7416     7170465   \n",
       "\n",
       "   longitude                        manager_id  \\\n",
       "0   -73.9918  4bdc3d8c1aaa90d997ce2cb77680679b   \n",
       "1   -74.0322  e5808a5e6cc13988fe596704428d38d5   \n",
       "2   -73.9751  d69d4e111612dd12ef864031c1148543   \n",
       "3   -74.0065  e6472c7237327dd3903b3d6f6a94515a   \n",
       "4   -74.0025  6fba9b3a8327c607b8b043716efee684   \n",
       "\n",
       "                                              photos  price  \\\n",
       "0  ['https://photos.renthop.com/2/7039994_07be01b...   4495   \n",
       "1  ['https://photos.renthop.com/2/7166774_03cf63a...   2570   \n",
       "2  ['https://photos.renthop.com/2/6962716_ec7f56f...   1795   \n",
       "3  ['https://photos.renthop.com/2/7002458_93f4010...   3400   \n",
       "4  ['https://photos.renthop.com/2/7170465_9c3f173...   5695   \n",
       "\n",
       "         street_address  TARGET  \n",
       "0         W 50 & AVE 10  medium  \n",
       "1  55 River Drive South  medium  \n",
       "2        22 W 77 Street     low  \n",
       "3       100 John Street     low  \n",
       "4  321 West 16th Street     low  "
      ]
     },
     "execution_count": 3,
     "metadata": {},
     "output_type": "execute_result"
    }
   ],
   "source": [
    "X.head()"
   ]
  },
  {
   "cell_type": "code",
   "execution_count": 4,
   "id": "7f4003ad",
   "metadata": {},
   "outputs": [
    {
     "name": "stdout",
     "output_type": "stream",
     "text": [
      "<class 'pandas.core.frame.DataFrame'>\n",
      "RangeIndex: 34546 entries, 0 to 34545\n",
      "Data columns (total 16 columns):\n",
      " #   Column           Non-Null Count  Dtype  \n",
      "---  ------           --------------  -----  \n",
      " 0   Id               34546 non-null  int64  \n",
      " 1   bathrooms        34546 non-null  float64\n",
      " 2   bedrooms         34546 non-null  int64  \n",
      " 3   building_id      34546 non-null  object \n",
      " 4   created          34546 non-null  object \n",
      " 5   description      33509 non-null  object \n",
      " 6   display_address  34458 non-null  object \n",
      " 7   features         34546 non-null  object \n",
      " 8   latitude         34546 non-null  float64\n",
      " 9   listing_id       34546 non-null  int64  \n",
      " 10  longitude        34546 non-null  float64\n",
      " 11  manager_id       34546 non-null  object \n",
      " 12  photos           34546 non-null  object \n",
      " 13  price            34546 non-null  int64  \n",
      " 14  street_address   34542 non-null  object \n",
      " 15  TARGET           34546 non-null  object \n",
      "dtypes: float64(3), int64(4), object(9)\n",
      "memory usage: 4.2+ MB\n"
     ]
    }
   ],
   "source": [
    "X.info()"
   ]
  },
  {
   "cell_type": "markdown",
   "id": "e99e829f",
   "metadata": {},
   "source": [
    "- bathrooms: количество ванных\n",
    "- bedrooms: количество спален\n",
    "- building_id: ID здания\n",
    "- created: дата создания объявления\n",
    "- display_address: адрес \n",
    "- features: список разных полезных текстовых тегов\n",
    "- latitude: ширина (координата)\n",
    "- longitude: долгода (координата)\n",
    "- listing_id: ID объявления\n",
    "- manager_id: ID риелтора\n",
    "- photos: количество фотографий у объявления\n",
    "- price: цена в долларах\n",
    "- TARGET: целевая переменная; \"low\", \"medium\" или \"high\""
   ]
  },
  {
   "cell_type": "code",
   "execution_count": 5,
   "id": "ff071f40",
   "metadata": {},
   "outputs": [
    {
     "data": {
      "text/html": [
       "<div>\n",
       "<style scoped>\n",
       "    .dataframe tbody tr th:only-of-type {\n",
       "        vertical-align: middle;\n",
       "    }\n",
       "\n",
       "    .dataframe tbody tr th {\n",
       "        vertical-align: top;\n",
       "    }\n",
       "\n",
       "    .dataframe thead th {\n",
       "        text-align: right;\n",
       "    }\n",
       "</style>\n",
       "<table border=\"1\" class=\"dataframe\">\n",
       "  <thead>\n",
       "    <tr style=\"text-align: right;\">\n",
       "      <th></th>\n",
       "      <th>Id</th>\n",
       "      <th>bathrooms</th>\n",
       "      <th>bedrooms</th>\n",
       "      <th>latitude</th>\n",
       "      <th>listing_id</th>\n",
       "      <th>longitude</th>\n",
       "      <th>price</th>\n",
       "    </tr>\n",
       "  </thead>\n",
       "  <tbody>\n",
       "    <tr>\n",
       "      <th>Id</th>\n",
       "      <td>1.000000</td>\n",
       "      <td>0.000189</td>\n",
       "      <td>-0.013098</td>\n",
       "      <td>-0.000766</td>\n",
       "      <td>-0.852544</td>\n",
       "      <td>-0.000491</td>\n",
       "      <td>-0.006833</td>\n",
       "    </tr>\n",
       "    <tr>\n",
       "      <th>bathrooms</th>\n",
       "      <td>0.000189</td>\n",
       "      <td>1.000000</td>\n",
       "      <td>0.534950</td>\n",
       "      <td>-0.018788</td>\n",
       "      <td>-0.001310</td>\n",
       "      <td>0.020179</td>\n",
       "      <td>0.056067</td>\n",
       "    </tr>\n",
       "    <tr>\n",
       "      <th>bedrooms</th>\n",
       "      <td>-0.013098</td>\n",
       "      <td>0.534950</td>\n",
       "      <td>1.000000</td>\n",
       "      <td>-0.007711</td>\n",
       "      <td>0.008440</td>\n",
       "      <td>0.009308</td>\n",
       "      <td>0.043682</td>\n",
       "    </tr>\n",
       "    <tr>\n",
       "      <th>latitude</th>\n",
       "      <td>-0.000766</td>\n",
       "      <td>-0.018788</td>\n",
       "      <td>-0.007711</td>\n",
       "      <td>1.000000</td>\n",
       "      <td>0.002951</td>\n",
       "      <td>-0.993271</td>\n",
       "      <td>-0.001086</td>\n",
       "    </tr>\n",
       "    <tr>\n",
       "      <th>listing_id</th>\n",
       "      <td>-0.852544</td>\n",
       "      <td>-0.001310</td>\n",
       "      <td>0.008440</td>\n",
       "      <td>0.002951</td>\n",
       "      <td>1.000000</td>\n",
       "      <td>-0.001311</td>\n",
       "      <td>0.009508</td>\n",
       "    </tr>\n",
       "    <tr>\n",
       "      <th>longitude</th>\n",
       "      <td>-0.000491</td>\n",
       "      <td>0.020179</td>\n",
       "      <td>0.009308</td>\n",
       "      <td>-0.993271</td>\n",
       "      <td>-0.001311</td>\n",
       "      <td>1.000000</td>\n",
       "      <td>0.000380</td>\n",
       "    </tr>\n",
       "    <tr>\n",
       "      <th>price</th>\n",
       "      <td>-0.006833</td>\n",
       "      <td>0.056067</td>\n",
       "      <td>0.043682</td>\n",
       "      <td>-0.001086</td>\n",
       "      <td>0.009508</td>\n",
       "      <td>0.000380</td>\n",
       "      <td>1.000000</td>\n",
       "    </tr>\n",
       "  </tbody>\n",
       "</table>\n",
       "</div>"
      ],
      "text/plain": [
       "                  Id  bathrooms  bedrooms  latitude  listing_id  longitude  \\\n",
       "Id          1.000000   0.000189 -0.013098 -0.000766   -0.852544  -0.000491   \n",
       "bathrooms   0.000189   1.000000  0.534950 -0.018788   -0.001310   0.020179   \n",
       "bedrooms   -0.013098   0.534950  1.000000 -0.007711    0.008440   0.009308   \n",
       "latitude   -0.000766  -0.018788 -0.007711  1.000000    0.002951  -0.993271   \n",
       "listing_id -0.852544  -0.001310  0.008440  0.002951    1.000000  -0.001311   \n",
       "longitude  -0.000491   0.020179  0.009308 -0.993271   -0.001311   1.000000   \n",
       "price      -0.006833   0.056067  0.043682 -0.001086    0.009508   0.000380   \n",
       "\n",
       "               price  \n",
       "Id         -0.006833  \n",
       "bathrooms   0.056067  \n",
       "bedrooms    0.043682  \n",
       "latitude   -0.001086  \n",
       "listing_id  0.009508  \n",
       "longitude   0.000380  \n",
       "price       1.000000  "
      ]
     },
     "execution_count": 5,
     "metadata": {},
     "output_type": "execute_result"
    }
   ],
   "source": [
    "X.corr()"
   ]
  },
  {
   "cell_type": "code",
   "execution_count": 6,
   "id": "7ca3feff",
   "metadata": {},
   "outputs": [
    {
     "data": {
      "text/plain": [
       "Id                    0\n",
       "bathrooms             0\n",
       "bedrooms              0\n",
       "building_id           0\n",
       "created               0\n",
       "description        1037\n",
       "display_address      88\n",
       "features              0\n",
       "latitude              0\n",
       "listing_id            0\n",
       "longitude             0\n",
       "manager_id            0\n",
       "photos                0\n",
       "price                 0\n",
       "street_address        4\n",
       "TARGET                0\n",
       "dtype: int64"
      ]
     },
     "execution_count": 6,
     "metadata": {},
     "output_type": "execute_result"
    }
   ],
   "source": [
    "X.isna().sum()"
   ]
  },
  {
   "cell_type": "code",
   "execution_count": 7,
   "id": "5533cd57",
   "metadata": {},
   "outputs": [],
   "source": [
    "def info_signs(col):\n",
    "    print(f'Тип: {X[col].dtype}')\n",
    "    print(f'Уникальных значений: {X[col].nunique()}')\n",
    "    print(f'Пропущенных значений: {X[col].isna().sum()}')\n",
    "    print(f'Процент пропущенных значений:{X[col].isna().sum()/len(X[col])*100:.2f}%')\n",
    "    X[col].hist()\n",
    "    plt.xlabel(col)\n",
    "    plt.ylabel('Количество')\n",
    "    plt.title(f'Распределение {col}');\n",
    "    plt.show"
   ]
  },
  {
   "cell_type": "code",
   "execution_count": 8,
   "id": "0855268f",
   "metadata": {},
   "outputs": [],
   "source": [
    "def info_signs_nohist(col):\n",
    "    print(f'Тип: {X[col].dtype}')\n",
    "    print(f'Уникальных значений: {X[col].nunique()}')\n",
    "    print(f'Пропущенных значений: {X[col].isna().sum()}')\n",
    "    print(f'Процент пропущенных значений:{X[col].isna().sum()/len(X[col])*100:.2f}%')"
   ]
  },
  {
   "cell_type": "markdown",
   "id": "42ceec3f",
   "metadata": {},
   "source": [
    "### bathrooms"
   ]
  },
  {
   "cell_type": "code",
   "execution_count": 9,
   "id": "61e78a7b",
   "metadata": {},
   "outputs": [
    {
     "name": "stdout",
     "output_type": "stream",
     "text": [
      "Тип: float64\n",
      "Уникальных значений: 12\n",
      "Пропущенных значений: 0\n",
      "Процент пропущенных значений:0.00%\n"
     ]
    },
    {
     "data": {
      "image/png": "[encoded data removed]",
      "text/plain": [
       "<Figure size 432x288 with 1 Axes>"
      ]
     },
     "metadata": {
      "needs_background": "light"
     },
     "output_type": "display_data"
    }
   ],
   "source": [
    "info_signs('bathrooms')"
   ]
  },
  {
   "cell_type": "markdown",
   "id": "04f59d60",
   "metadata": {},
   "source": [
    "### bedrooms"
   ]
  },
  {
   "cell_type": "code",
   "execution_count": 10,
   "id": "63d025bd",
   "metadata": {},
   "outputs": [
    {
     "name": "stdout",
     "output_type": "stream",
     "text": [
      "Тип: int64\n",
      "Уникальных значений: 8\n",
      "Пропущенных значений: 0\n",
      "Процент пропущенных значений:0.00%\n"
     ]
    },
    {
     "data": {
      "image/png": "[encoded data removed]",
      "text/plain": [
       "<Figure size 432x288 with 1 Axes>"
      ]
     },
     "metadata": {
      "needs_background": "light"
     },
     "output_type": "display_data"
    }
   ],
   "source": [
    "info_signs('bedrooms')"
   ]
  },
  {
   "cell_type": "markdown",
   "id": "15345e6c",
   "metadata": {},
   "source": [
    "### building_id"
   ]
  },
  {
   "cell_type": "code",
   "execution_count": 11,
   "id": "878822d8",
   "metadata": {},
   "outputs": [
    {
     "name": "stdout",
     "output_type": "stream",
     "text": [
      "Тип: object\n",
      "Уникальных значений: 6378\n",
      "Пропущенных значений: 0\n",
      "Процент пропущенных значений:0.00%\n"
     ]
    }
   ],
   "source": [
    "info_signs_nohist('building_id')"
   ]
  },
  {
   "cell_type": "code",
   "execution_count": 12,
   "id": "619423d8",
   "metadata": {},
   "outputs": [
    {
     "data": {
      "text/plain": [
       "0                                   5713\n",
       "96274288c84ddd7d5c5d8e425ee75027     196\n",
       "80a120d6bc3aba97f40fee8c2204524b     161\n",
       "11e1dec9d14b1a9e528386a2504b3afc     151\n",
       "bb8658a3e432fb62a440615333376345     141\n",
       "                                    ... \n",
       "b056b885ccb66bec620f32e9ffd7525d       1\n",
       "08bb0c3596ec343c7bd738450d992363       1\n",
       "53bbc5ba84e361e6f1304bf4bca48b94       1\n",
       "baf1dbda2b23cad649d7f3f6a5138fd7       1\n",
       "d969e94536dc8385c62b3ab120382ca2       1\n",
       "Name: building_id, Length: 6378, dtype: int64"
      ]
     },
     "execution_count": 12,
     "metadata": {},
     "output_type": "execute_result"
    }
   ],
   "source": [
    "X['building_id'].value_counts()"
   ]
  },
  {
   "cell_type": "markdown",
   "id": "ca84ae71",
   "metadata": {},
   "source": [
    "Очень много пропущенных значений, где параметр равен нулю. Уникальных значений также много."
   ]
  },
  {
   "cell_type": "markdown",
   "id": "7a8557c6",
   "metadata": {},
   "source": [
    "### created"
   ]
  },
  {
   "cell_type": "code",
   "execution_count": 13,
   "id": "bf6bc439",
   "metadata": {},
   "outputs": [
    {
     "name": "stdout",
     "output_type": "stream",
     "text": [
      "Тип: object\n",
      "Уникальных значений: 34186\n",
      "Пропущенных значений: 0\n",
      "Процент пропущенных значений:0.00%\n"
     ]
    }
   ],
   "source": [
    "info_signs_nohist('created')"
   ]
  },
  {
   "cell_type": "code",
   "execution_count": 14,
   "id": "4bae4bff",
   "metadata": {},
   "outputs": [],
   "source": [
    "X['created'] = pd.to_datetime(X['created'])"
   ]
  },
  {
   "cell_type": "markdown",
   "id": "cc0db02e",
   "metadata": {},
   "source": [
    "Добавим признаки:\n",
    "\n",
    "- month_year_cnt - Как часто в этот год и этот месяц появлились объявления\n",
    "- week_year_cnt - Как часто в этот год и эту неделю появлялись объявления\n",
    "- month - Месяц\n",
    "- day_of_week - День недели\n",
    "- hour - Час"
   ]
  },
  {
   "cell_type": "code",
   "execution_count": 15,
   "id": "ffd46acd",
   "metadata": {},
   "outputs": [
    {
     "name": "stderr",
     "output_type": "stream",
     "text": [
      "/var/folders/0z/xdp9mm8x4_z_0_m6kj7_k9hw0000gn/T/ipykernel_75453/3391770163.py:5: FutureWarning: Series.dt.weekofyear and Series.dt.week have been deprecated. Please use Series.dt.isocalendar().week instead.\n",
      "  week_year = (X.created.dt.weekofyear + X.created.dt.year * 100)\n"
     ]
    }
   ],
   "source": [
    "month_year = (X.created.dt.month + X.created.dt.year * 100)\n",
    "month_year_cnt_map = month_year.value_counts().to_dict()\n",
    "X[\"month_year_cnt\"] = month_year.map(month_year_cnt_map)\n",
    "\n",
    "week_year = (X.created.dt.weekofyear + X.created.dt.year * 100)\n",
    "week_year_cnt_map = week_year.value_counts().to_dict()\n",
    "X[\"week_year_cnt\"] = week_year.map(week_year_cnt_map)\n",
    "\n",
    "X[\"month\"] = X.created.dt.month\n",
    "X[\"day_of_week\"] = X.created.dt.dayofweek\n",
    "X[\"hour\"] = X.created.dt.hour\n",
    "X[\"weekday\"] = X.created.dt.weekday"
   ]
  },
  {
   "cell_type": "code",
   "execution_count": 16,
   "id": "145704bb",
   "metadata": {},
   "outputs": [
    {
     "data": {
      "image/png": "[encoded data removed]",
      "text/plain": [
       "<Figure size 432x288 with 1 Axes>"
      ]
     },
     "metadata": {
      "needs_background": "light"
     },
     "output_type": "display_data"
    }
   ],
   "source": [
    "X[\"month\"].hist()\n",
    "plt.xlabel('месяц')\n",
    "plt.ylabel('Количество объявлений')\n",
    "plt.title('Распределение количества объявлений по месяцам');\n",
    "plt.show()"
   ]
  },
  {
   "cell_type": "markdown",
   "id": "1d4d90ac",
   "metadata": {},
   "source": [
    "В июне чуть больше объявлений, но не критично."
   ]
  },
  {
   "cell_type": "code",
   "execution_count": 17,
   "id": "a10d1542",
   "metadata": {},
   "outputs": [
    {
     "data": {
      "image/png": "[encoded data removed]",
      "text/plain": [
       "<Figure size 432x288 with 1 Axes>"
      ]
     },
     "metadata": {
      "needs_background": "light"
     },
     "output_type": "display_data"
    }
   ],
   "source": [
    "X[\"weekday\"].hist()\n",
    "plt.xlabel('День недели')\n",
    "plt.ylabel('Количество')\n",
    "plt.title('Распределение количества объявлений по дням недели');\n",
    "plt.show()"
   ]
  },
  {
   "cell_type": "markdown",
   "id": "7d040184",
   "metadata": {},
   "source": [
    "В среду пик активности создания объявлений"
   ]
  },
  {
   "cell_type": "code",
   "execution_count": 18,
   "id": "4c35b30f",
   "metadata": {},
   "outputs": [
    {
     "data": {
      "image/png": "[encoded data removed]",
      "text/plain": [
       "<Figure size 432x288 with 1 Axes>"
      ]
     },
     "metadata": {
      "needs_background": "light"
     },
     "output_type": "display_data"
    }
   ],
   "source": [
    "X[\"hour\"].hist()\n",
    "plt.xlabel('Час')\n",
    "plt.ylabel('Количество объявлений')\n",
    "plt.title('Распределение количества объявлений по часам');\n",
    "plt.show()"
   ]
  },
  {
   "cell_type": "markdown",
   "id": "afc7b798",
   "metadata": {},
   "source": [
    "Большинство объявлений создаются с 00:00 по 6:00. "
   ]
  },
  {
   "cell_type": "markdown",
   "id": "22b76850",
   "metadata": {},
   "source": [
    "### description"
   ]
  },
  {
   "cell_type": "code",
   "execution_count": 19,
   "id": "fd016413",
   "metadata": {},
   "outputs": [
    {
     "name": "stdout",
     "output_type": "stream",
     "text": [
      "Тип: object\n",
      "Уникальных значений: 27757\n",
      "Пропущенных значений: 1037\n",
      "Процент пропущенных значений:3.00%\n"
     ]
    }
   ],
   "source": [
    "info_signs_nohist('description')"
   ]
  },
  {
   "cell_type": "markdown",
   "id": "cf05d47a",
   "metadata": {},
   "source": [
    "Узнаем сколько слов используется для описания объявления"
   ]
  },
  {
   "cell_type": "code",
   "execution_count": 20,
   "id": "72eaf14d",
   "metadata": {},
   "outputs": [
    {
     "data": {
      "text/html": [
       "<div>\n",
       "<style scoped>\n",
       "    .dataframe tbody tr th:only-of-type {\n",
       "        vertical-align: middle;\n",
       "    }\n",
       "\n",
       "    .dataframe tbody tr th {\n",
       "        vertical-align: top;\n",
       "    }\n",
       "\n",
       "    .dataframe thead th {\n",
       "        text-align: right;\n",
       "    }\n",
       "</style>\n",
       "<table border=\"1\" class=\"dataframe\">\n",
       "  <thead>\n",
       "    <tr style=\"text-align: right;\">\n",
       "      <th></th>\n",
       "      <th>description</th>\n",
       "      <th>words</th>\n",
       "    </tr>\n",
       "  </thead>\n",
       "  <tbody>\n",
       "    <tr>\n",
       "      <th>0</th>\n",
       "      <td>A FABULOUS 3BR IN MIDTOWN WEST!   PERFECT APAR...</td>\n",
       "      <td>79</td>\n",
       "    </tr>\n",
       "    <tr>\n",
       "      <th>1</th>\n",
       "      <td>Renovated Kitchen and Bathroom!</td>\n",
       "      <td>4</td>\n",
       "    </tr>\n",
       "    <tr>\n",
       "      <th>2</th>\n",
       "      <td>RARE AND BEST DEAL ON THE MARKET!!!! PERFECT S...</td>\n",
       "      <td>43</td>\n",
       "    </tr>\n",
       "    <tr>\n",
       "      <th>3</th>\n",
       "      <td>Newly renovated flex 2 apartment offers the ne...</td>\n",
       "      <td>169</td>\n",
       "    </tr>\n",
       "    <tr>\n",
       "      <th>4</th>\n",
       "      <td>LOW FEE apartments do not come around like thi...</td>\n",
       "      <td>119</td>\n",
       "    </tr>\n",
       "  </tbody>\n",
       "</table>\n",
       "</div>"
      ],
      "text/plain": [
       "                                         description  words\n",
       "0  A FABULOUS 3BR IN MIDTOWN WEST!   PERFECT APAR...     79\n",
       "1                    Renovated Kitchen and Bathroom!      4\n",
       "2  RARE AND BEST DEAL ON THE MARKET!!!! PERFECT S...     43\n",
       "3  Newly renovated flex 2 apartment offers the ne...    169\n",
       "4  LOW FEE apartments do not come around like thi...    119"
      ]
     },
     "execution_count": 20,
     "metadata": {},
     "output_type": "execute_result"
    }
   ],
   "source": [
    "description = pd.DataFrame(X['description'])\n",
    "description['words'] = X.description.fillna('').apply(lambda x: len(x.split()))\n",
    "description.head()"
   ]
  },
  {
   "cell_type": "code",
   "execution_count": 21,
   "id": "35554d07",
   "metadata": {},
   "outputs": [
    {
     "data": {
      "image/png": "[encoded data removed]",
      "text/plain": [
       "<Figure size 432x288 with 1 Axes>"
      ]
     },
     "metadata": {
      "needs_background": "light"
     },
     "output_type": "display_data"
    }
   ],
   "source": [
    "description['words'].hist(bins=100)\n",
    "plt.xlabel('Количество слов')\n",
    "plt.ylabel('Количество объявлений')\n",
    "plt.title('Распределение количества объявлений по кол-ву слов в них');\n",
    "plt.show()"
   ]
  },
  {
   "cell_type": "markdown",
   "id": "a63833d4",
   "metadata": {},
   "source": [
    "Много объявлений без описания с нулевым количеством слов"
   ]
  },
  {
   "cell_type": "markdown",
   "id": "43dec096",
   "metadata": {},
   "source": [
    "Добавим столбец с количеством слов в описании, наверное, когда слишком много слов пользователям лень читать до конца, а когда мало, то объявление может вызвать недоверие"
   ]
  },
  {
   "cell_type": "code",
   "execution_count": 22,
   "id": "7e67adc7",
   "metadata": {},
   "outputs": [],
   "source": [
    "X['description_words'] = description['words']"
   ]
  },
  {
   "cell_type": "markdown",
   "id": "7d963c7e",
   "metadata": {},
   "source": [
    "### display_address"
   ]
  },
  {
   "cell_type": "code",
   "execution_count": 23,
   "id": "a2803709",
   "metadata": {},
   "outputs": [
    {
     "name": "stdout",
     "output_type": "stream",
     "text": [
      "Тип: object\n",
      "Уникальных значений: 6998\n",
      "Пропущенных значений: 88\n",
      "Процент пропущенных значений:0.25%\n"
     ]
    }
   ],
   "source": [
    "info_signs_nohist('display_address')"
   ]
  },
  {
   "cell_type": "markdown",
   "id": "7bf18abf",
   "metadata": {},
   "source": [
    "в адресе указан адрес, для модели полезными будут координаты дома объявления"
   ]
  },
  {
   "cell_type": "markdown",
   "id": "68c9768f",
   "metadata": {},
   "source": [
    "### features"
   ]
  },
  {
   "cell_type": "code",
   "execution_count": 24,
   "id": "5f741deb",
   "metadata": {},
   "outputs": [
    {
     "name": "stdout",
     "output_type": "stream",
     "text": [
      "Тип: object\n",
      "Уникальных значений: 8245\n",
      "Пропущенных значений: 0\n",
      "Процент пропущенных значений:0.00%\n"
     ]
    }
   ],
   "source": [
    "info_signs_nohist('features')"
   ]
  },
  {
   "cell_type": "code",
   "execution_count": 25,
   "id": "2a8d53f7",
   "metadata": {},
   "outputs": [],
   "source": [
    "features = []\n",
    "\n",
    "for i in range(X.shape[0]):\n",
    "   feat = X.iloc[i]['features']\n",
    "   if feat.find(' * ') > 0:\n",
    "     feat = feat[2:-2].split(\" * \")\n",
    "   else:\n",
    "     feat = feat[2:-2].split(\"', '\")\n",
    "   features.extend(feat)\n",
    "\n",
    "features = [x.lower() for x in features]\n",
    "     "
   ]
  },
  {
   "cell_type": "markdown",
   "id": "9aed9ba5",
   "metadata": {},
   "source": [
    "Вот какие признаки вынесем:\n",
    "\n",
    "- no/reduced_fee - без платы агентству за оказание услуги, сниженная плата\n",
    "- elevator - наличие лифта\n",
    "- pets - разрешены ли животные\n",
    "- laundry - наличие прачечной\n",
    "- hardwood_floors - паркетные полы\n",
    "- doorman - наличие консьержа/швейцара/домофона\n",
    "- furniture - наличие какой-либо мебели/техники\n",
    "- pre-war_building - довоенное ли здание\n",
    "- sport - наличие рядом спортивных организаций/площадок\n",
    "- park/terrace/garden - наличие балкона/сада/парка\n",
    "- internet - наличие интернета\n",
    "- parking - наличие парковки\n",
    "- nice_view - отличный вид из окна\n",
    "- repair - наличие ремонта\n",
    "- subway -  метро рядом"
   ]
  },
  {
   "cell_type": "code",
   "execution_count": 26,
   "id": "18379538",
   "metadata": {},
   "outputs": [],
   "source": [
    "from tqdm import tqdm\n",
    "\n",
    "def adding_new_feats(data):\n",
    "  for i in tqdm(range(data.shape[0])):\n",
    "    feat = data.iloc[i]['features']\n",
    "    feat = feat.lower()\n",
    "\n",
    "    if feat.find('fee') >= 0 and feat.find('additional fee') < 0: #fee\n",
    "      data.loc[ i ,'no/reduced_fee'] = 1\n",
    "    else:\n",
    "      data.loc[ i ,'no/reduced_fee'] = 0\n",
    "\n",
    "\n",
    "    if feat.find('elevator') >= 0 or feat.find('elev') >= 0: #elevator\n",
    "      data.loc[ i ,'elevator'] = 1\n",
    "    else:\n",
    "      data.loc[ i ,'elevator'] = 0\n",
    "\n",
    "\n",
    "    if (feat.find('pets') >= 0 and feat.find('no pets') < 0) or \\\n",
    "        feat.find('cats') >= 0 or feat.find('dog') >= 0 or feat.find('animal') >=0 : #pets\n",
    "      data.loc[ i ,'pets'] = 1\n",
    "    else:\n",
    "      data.loc[ i ,'pets'] = 0\n",
    "\n",
    "\n",
    "    if feat.find('laundry') >= 0: #laundry\n",
    "      data.loc[ i ,'laundry'] = 1\n",
    "    else:\n",
    "      data.loc[ i ,'laundry'] = 0\n",
    "\n",
    "\n",
    "    if (feat.find('wood') >= 0 and feat.find('fireplace') < 0) or \\\n",
    "       (feat.find('oak') >= 0 and feat.find('soaking') < 0): #hardwood_floors\n",
    "      data.loc[ i ,'hardwood_floors'] = 1\n",
    "    else:\n",
    "      data.loc[ i ,'hardwood_floors'] = 0\n",
    "\n",
    "\n",
    "    if feat.find('concierge') >= 0 or feat.find('doorman') >= 0 or feat.find('intercom') >= 0: \n",
    "      data.loc[ i ,'doorman'] = 1 #doorman\n",
    "    else:\n",
    "      data.loc[ i ,'doorman'] = 0\n",
    "\n",
    "\n",
    "    if feat.find('furnished') >= 0 or \\\n",
    "       feat.find('tv') >= 0 or feat.find('conditioning') >= 0 or \\\n",
    "       feat.find('microwave') >= 0 or feat.find('dryer') >= 0 or \\\n",
    "       feat.find('washer') >= 0 or feat.find('dishwasher') >= 0 or \\\n",
    "       feat.find('fireplace') >= 0: \n",
    "      data.loc[ i ,'furniture'] = 1 #furniture\n",
    "    else:\n",
    "      data.loc[ i ,'furniture'] = 0\n",
    "\n",
    "\n",
    "    if feat.find('pre-war') >= 0 or feat.find('prewar') >= 0: #pre-war building\n",
    "      data.loc[ i ,'pre-war_building'] = 1\n",
    "    else:\n",
    "      data.loc[ i ,'pre-war_building'] = 0\n",
    "\n",
    "\n",
    "    if feat.find('fitness') >= 0 or feat.find('gym') >= 0 or \\\n",
    "       feat.find('pool') >= 0 or feat.find('court') >= 0  or \\\n",
    "       feat.find('basketball') >= 0  or feat.find('yoga') >= 0  or \\\n",
    "       feat.find('pilates') >= 0 or feat.find('dance') >= 0: \n",
    "      data.loc[ i ,'sport'] = 1 #sport\n",
    "    else:\n",
    "      data.loc[ i ,'sport'] = 0\n",
    "\n",
    "\n",
    "    if (feat.find('park') >= 0 and feat.find('parking') < 0) or \\\n",
    "       feat.find('balcon') >= 0 or feat.find('terrace') >= 0 or \\\n",
    "       feat.find('garden') >= 0 or feat.find('patio') >= 0  or \\\n",
    "       feat.find('yard') >= 0 or \\\n",
    "       (feat.find('roof') >= 0 and feat.find('proof') < 0):\n",
    "      data.loc[ i ,'park/terrace/garden'] = 1 #park/terrace/garden\n",
    "    else:\n",
    "      data.loc[ i ,'park/terrace/garden'] = 0\n",
    "\n",
    "\n",
    "    if feat.find('internet') >= 0 or feat.find('wifi') >= 0 or feat.find('wi-fi') >= 0:\n",
    "      data.loc[ i ,'internet'] = 1 #internet\n",
    "    else:\n",
    "      data.loc[ i ,'internet'] = 0\n",
    "\n",
    "\n",
    "    if feat.find('garage') >= 0 or feat.find('parking') >= 0: #parking\n",
    "      data.loc[ i ,'parking'] = 1 \n",
    "    else:\n",
    "      data.loc[ i ,'parking'] = 0\n",
    "\n",
    "\n",
    "    if feat.find('view') >= 0: #nice view\n",
    "      data.loc[ i ,'nice_view'] = 1\n",
    "    else:\n",
    "      data.loc[ i ,'nice_view'] = 0\n",
    "\n",
    "\n",
    "    if feat.find('renovat') >= 0: #repair\n",
    "      data.loc[ i ,'repair'] = 1\n",
    "    else:\n",
    "      data.loc[ i ,'repair'] = 0\n",
    "\n",
    "\n",
    "    if feat.find('subway') >= 0 or \\\n",
    "       (feat.find('train') >= 0 and feat.find('training') < 0) or\\\n",
    "       feat.find('stop') >= 0 or feat.find('bedford') >= 0:   #bedford - название остановки\n",
    "      data.loc[ i ,'subway'] = 1  #subway\n",
    "    else:\n",
    "      data.loc[ i ,'subway'] = 0"
   ]
  },
  {
   "cell_type": "code",
   "execution_count": 27,
   "id": "04121c2a",
   "metadata": {},
   "outputs": [],
   "source": [
    "X = X.reset_index(drop=True)"
   ]
  },
  {
   "cell_type": "markdown",
   "id": "f23f9d78",
   "metadata": {},
   "source": [
    "Добавим признаки в выборку"
   ]
  },
  {
   "cell_type": "code",
   "execution_count": 28,
   "id": "df58c9da",
   "metadata": {},
   "outputs": [
    {
     "name": "stderr",
     "output_type": "stream",
     "text": [
      "100%|███████████████████████████████████| 34546/34546 [00:21<00:00, 1620.69it/s]\n"
     ]
    }
   ],
   "source": [
    "adding_new_feats(X)"
   ]
  },
  {
   "cell_type": "code",
   "execution_count": 29,
   "id": "66647436",
   "metadata": {},
   "outputs": [
    {
     "data": {
      "text/plain": [
       "Id                        0\n",
       "bathrooms                 0\n",
       "bedrooms                  0\n",
       "building_id               0\n",
       "created                   0\n",
       "description            1037\n",
       "display_address          88\n",
       "features                  0\n",
       "latitude                  0\n",
       "listing_id                0\n",
       "longitude                 0\n",
       "manager_id                0\n",
       "photos                    0\n",
       "price                     0\n",
       "street_address            4\n",
       "TARGET                    0\n",
       "month_year_cnt            0\n",
       "week_year_cnt             0\n",
       "month                     0\n",
       "day_of_week               0\n",
       "hour                      0\n",
       "weekday                   0\n",
       "description_words         0\n",
       "no/reduced_fee            0\n",
       "elevator                  0\n",
       "pets                      0\n",
       "laundry                   0\n",
       "hardwood_floors           0\n",
       "doorman                   0\n",
       "furniture                 0\n",
       "pre-war_building          0\n",
       "sport                     0\n",
       "park/terrace/garden       0\n",
       "internet                  0\n",
       "parking                   0\n",
       "nice_view                 0\n",
       "repair                    0\n",
       "subway                    0\n",
       "dtype: int64"
      ]
     },
     "execution_count": 29,
     "metadata": {},
     "output_type": "execute_result"
    }
   ],
   "source": [
    "X.isna().sum()"
   ]
  },
  {
   "cell_type": "markdown",
   "id": "77b0b858",
   "metadata": {},
   "source": [
    "Удалим ненужные столбцы"
   ]
  },
  {
   "cell_type": "code",
   "execution_count": 30,
   "id": "934ae23f",
   "metadata": {},
   "outputs": [],
   "source": [
    "X = X.drop(columns=['features', 'description', 'display_address', 'Id' ])"
   ]
  },
  {
   "cell_type": "markdown",
   "id": "db3418d3",
   "metadata": {},
   "source": [
    "### latitude longitude"
   ]
  },
  {
   "cell_type": "code",
   "execution_count": 31,
   "id": "3ec6d421",
   "metadata": {},
   "outputs": [
    {
     "data": {
      "image/png": "[encoded data removed]",
      "text/plain": [
       "<Figure size 576x432 with 1 Axes>"
      ]
     },
     "metadata": {
      "needs_background": "light"
     },
     "output_type": "display_data"
    }
   ],
   "source": [
    "%matplotlib inline\n",
    "import matplotlib.pyplot as plt\n",
    "\n",
    "plt.rcParams[\"figure.figsize\"] = (8, 6)\n",
    "X.plot(kind = \"scatter\", x =\"longitude\", y =\"latitude\", alpha = 0.2)\n",
    "plt.show()"
   ]
  },
  {
   "cell_type": "markdown",
   "id": "af8c6572",
   "metadata": {},
   "source": [
    "Есть выбросы, уберем их"
   ]
  },
  {
   "cell_type": "code",
   "execution_count": 32,
   "id": "655532a3",
   "metadata": {},
   "outputs": [],
   "source": [
    "X = X.loc[(X['latitude'] < 42.0) & (X['longitude'] < -72)]\n",
    "X = X.loc[(X['latitude'] > 40.2) & (X['longitude'] > -75)]"
   ]
  },
  {
   "cell_type": "code",
   "execution_count": 33,
   "id": "5a03b628",
   "metadata": {},
   "outputs": [
    {
     "data": {
      "image/png": "[encoded data removed]",
      "text/plain": [
       "<Figure size 1080x720 with 1 Axes>"
      ]
     },
     "metadata": {
      "needs_background": "light"
     },
     "output_type": "display_data"
    }
   ],
   "source": [
    "plt.rcParams[\"figure.figsize\"] = (15, 10)\n",
    "X.plot(kind = \"scatter\", x =\"longitude\", y =\"latitude\", alpha = 0.2)\n",
    "plt.show()"
   ]
  },
  {
   "cell_type": "code",
   "execution_count": 34,
   "id": "93d685ac",
   "metadata": {},
   "outputs": [
    {
     "data": {
      "image/png": "[encoded data removed]",
      "text/plain": [
       "<Figure size 1080x720 with 1 Axes>"
      ]
     },
     "metadata": {
      "needs_background": "light"
     },
     "output_type": "display_data"
    }
   ],
   "source": [
    "import seaborn as sns\n",
    "\n",
    "sns.scatterplot(x=\"longitude\", y=\"latitude\", hue=\"TARGET\", data=X);"
   ]
  },
  {
   "cell_type": "markdown",
   "id": "2a565a37",
   "metadata": {},
   "source": [
    "больше всего объявлений с низкой популярностью расположены на северо-западе , а с высокой на юге, там где  Манхеттен, его координаты: (40.7834°, -73.9662), все сходится"
   ]
  },
  {
   "cell_type": "markdown",
   "id": "67930e78",
   "metadata": {},
   "source": [
    "### photos"
   ]
  },
  {
   "cell_type": "code",
   "execution_count": 35,
   "id": "c2f764d9",
   "metadata": {},
   "outputs": [],
   "source": [
    "def adding_number_of_photos(data):\n",
    "  for i in range(data.shape[0]):\n",
    "    photos = data.iloc[i]['photos'] \n",
    "    data.loc[ i ,'number_of_photos'] = len(photos[2:-2].split(\"', '\"))\n",
    "     "
   ]
  },
  {
   "cell_type": "code",
   "execution_count": 36,
   "id": "d4e22ca4",
   "metadata": {},
   "outputs": [],
   "source": [
    "adding_number_of_photos(X)"
   ]
  },
  {
   "cell_type": "code",
   "execution_count": 37,
   "id": "1f7df422",
   "metadata": {},
   "outputs": [
    {
     "data": {
      "image/png": "[encoded data removed]",
      "text/plain": [
       "<Figure size 432x288 with 1 Axes>"
      ]
     },
     "metadata": {
      "needs_background": "light"
     },
     "output_type": "display_data"
    }
   ],
   "source": [
    "X['number_of_photos'].hist(bins=50, figsize=(6,4))\n",
    "plt.show()"
   ]
  },
  {
   "cell_type": "code",
   "execution_count": 38,
   "id": "b7e7a9cb",
   "metadata": {},
   "outputs": [
    {
     "data": {
      "text/plain": [
       "6368"
      ]
     },
     "execution_count": 38,
     "metadata": {},
     "output_type": "execute_result"
    }
   ],
   "source": [
    "len(X['building_id'].value_counts())"
   ]
  },
  {
   "cell_type": "markdown",
   "id": "145115d1",
   "metadata": {},
   "source": [
    "### price"
   ]
  },
  {
   "cell_type": "markdown",
   "id": "d9f382ee",
   "metadata": {},
   "source": [
    "Добавим признак: стоимость одной комнаты"
   ]
  },
  {
   "cell_type": "code",
   "execution_count": 39,
   "id": "fc30ae62",
   "metadata": {},
   "outputs": [],
   "source": [
    "def adding_cost_of_one_room(data):\n",
    "  for i in range(data.shape[0]):\n",
    "    rooms = np.sum(data.iloc[i]['bedrooms'] + data.iloc[i]['bathrooms'])\n",
    "\n",
    "    if rooms == 0:\n",
    "      data.loc[ i ,'cost_of_one_room'] = data.iloc[i]['price'] #cчитаем, что есть одна комната\n",
    "    else:\n",
    "      data.loc[ i ,'cost_of_one_room'] = data.iloc[i]['price'] / rooms"
   ]
  },
  {
   "cell_type": "code",
   "execution_count": 40,
   "id": "5d5c8bdd",
   "metadata": {},
   "outputs": [],
   "source": [
    "adding_cost_of_one_room(X)"
   ]
  },
  {
   "cell_type": "code",
   "execution_count": 41,
   "id": "433c7f9e",
   "metadata": {},
   "outputs": [
    {
     "data": {
      "image/png": "[encoded data removed]",
      "text/plain": [
       "<Figure size 864x576 with 4 Axes>"
      ]
     },
     "metadata": {
      "needs_background": "light"
     },
     "output_type": "display_data"
    }
   ],
   "source": [
    "fig, axs = plt.subplots(2, 2, figsize=(12, 8))\n",
    "sns.histplot(data=X, x=\"cost_of_one_room\", ax=axs[0, 0])\n",
    "sns.histplot(data=X, x=\"cost_of_one_room\", log_scale=True, ax=axs[0, 1])\n",
    "sns.histplot(data=X, x=\"price\", ax=axs[1, 0])\n",
    "sns.histplot(data=X, x=\"price\", log_scale=True, ax=axs[1, 1])\n",
    "plt.show()"
   ]
  },
  {
   "cell_type": "markdown",
   "id": "d3732ee3",
   "metadata": {},
   "source": [
    "Очевидно,  каждый район имеет разные цены на жилье. Значит мы **можно сгруппировать building_id по \"районам\" согласно их цене за комнату**"
   ]
  },
  {
   "cell_type": "markdown",
   "id": "7269b527",
   "metadata": {},
   "source": [
    "Разделим здания на:\n",
    "\n",
    "- здания с низкой ценой\n",
    "- здания c средне-низкой ценой\n",
    "- здания c средней ценой\n",
    "- здания c высокой ценой"
   ]
  },
  {
   "cell_type": "code",
   "execution_count": 42,
   "id": "7d0ba291",
   "metadata": {},
   "outputs": [],
   "source": [
    "X_old = X.copy()"
   ]
  },
  {
   "cell_type": "code",
   "execution_count": 43,
   "id": "2766cb0b",
   "metadata": {},
   "outputs": [
    {
     "data": {
      "text/html": [
       "<div>\n",
       "<style scoped>\n",
       "    .dataframe tbody tr th:only-of-type {\n",
       "        vertical-align: middle;\n",
       "    }\n",
       "\n",
       "    .dataframe tbody tr th {\n",
       "        vertical-align: top;\n",
       "    }\n",
       "\n",
       "    .dataframe thead th {\n",
       "        text-align: right;\n",
       "    }\n",
       "</style>\n",
       "<table border=\"1\" class=\"dataframe\">\n",
       "  <thead>\n",
       "    <tr style=\"text-align: right;\">\n",
       "      <th></th>\n",
       "      <th>cost_of_one_room</th>\n",
       "    </tr>\n",
       "  </thead>\n",
       "  <tbody>\n",
       "    <tr>\n",
       "      <th>count</th>\n",
       "      <td>6367.000000</td>\n",
       "    </tr>\n",
       "    <tr>\n",
       "      <th>mean</th>\n",
       "      <td>1514.743030</td>\n",
       "    </tr>\n",
       "    <tr>\n",
       "      <th>std</th>\n",
       "      <td>946.119838</td>\n",
       "    </tr>\n",
       "    <tr>\n",
       "      <th>min</th>\n",
       "      <td>233.333333</td>\n",
       "    </tr>\n",
       "    <tr>\n",
       "      <th>25%</th>\n",
       "      <td>1125.000000</td>\n",
       "    </tr>\n",
       "    <tr>\n",
       "      <th>50%</th>\n",
       "      <td>1420.302288</td>\n",
       "    </tr>\n",
       "    <tr>\n",
       "      <th>75%</th>\n",
       "      <td>1750.000000</td>\n",
       "    </tr>\n",
       "    <tr>\n",
       "      <th>max</th>\n",
       "      <td>54587.875000</td>\n",
       "    </tr>\n",
       "  </tbody>\n",
       "</table>\n",
       "</div>"
      ],
      "text/plain": [
       "       cost_of_one_room\n",
       "count       6367.000000\n",
       "mean        1514.743030\n",
       "std          946.119838\n",
       "min          233.333333\n",
       "25%         1125.000000\n",
       "50%         1420.302288\n",
       "75%         1750.000000\n",
       "max        54587.875000"
      ]
     },
     "execution_count": 43,
     "metadata": {},
     "output_type": "execute_result"
    }
   ],
   "source": [
    "mean = X.groupby('building_id').mean()['cost_of_one_room']\n",
    "cluster = pd.concat([mean], axis = 1)\n",
    "cluster['building_id'] = cluster.index\n",
    "cluster.columns = ['cost_of_one_room', 'building_id']\n",
    "cluster.describe()"
   ]
  },
  {
   "cell_type": "code",
   "execution_count": 44,
   "id": "9fdf4bd7",
   "metadata": {},
   "outputs": [],
   "source": [
    "cluster1 = cluster[cluster.cost_of_one_room < 875] #здания с низкой ценой\n",
    "cluster2 = cluster[(cluster.cost_of_one_room >= 875) & (cluster.cost_of_one_room < 1175)] #здания c средне-низкой ценой\n",
    "cluster3 = cluster[(cluster.cost_of_one_room >= 1175) & (cluster.cost_of_one_room < 1625)] #здания c средней ценой\n",
    "cluster4 = cluster[cluster.cost_of_one_room >= 1625] #здания c высокой ценой\n",
    "     "
   ]
  },
  {
   "cell_type": "code",
   "execution_count": 45,
   "id": "cc3bcbc1",
   "metadata": {},
   "outputs": [],
   "source": [
    "def get_group(x):\n",
    "    if x in cluster1.index:\n",
    "        return 'low_price'\n",
    "    elif x in cluster2.index:\n",
    "        return 'medium-low_price'\n",
    "    elif x in cluster3.index:\n",
    "        return 'medium_price'\n",
    "    else:\n",
    "        return 'high_price'\n",
    "\n",
    "X['group'] = X.building_id.apply(get_group)"
   ]
  },
  {
   "cell_type": "code",
   "execution_count": 46,
   "id": "05a40b17",
   "metadata": {},
   "outputs": [
    {
     "data": {
      "image/png": "[encoded data removed]",
      "text/plain": [
       "<Figure size 1440x1080 with 36 Axes>"
      ]
     },
     "metadata": {
      "needs_background": "light"
     },
     "output_type": "display_data"
    }
   ],
   "source": [
    "X.hist(bins=50, figsize=(20,15))\n",
    "plt.show()"
   ]
  },
  {
   "cell_type": "markdown",
   "id": "a7855699",
   "metadata": {},
   "source": [
    "### TARGET"
   ]
  },
  {
   "cell_type": "code",
   "execution_count": 47,
   "id": "5bd44fac",
   "metadata": {},
   "outputs": [
    {
     "data": {
      "image/png": "[encoded data removed]",
      "text/plain": [
       "<Figure size 432x288 with 1 Axes>"
      ]
     },
     "metadata": {
      "needs_background": "light"
     },
     "output_type": "display_data"
    }
   ],
   "source": [
    "X['TARGET'].hist(figsize=(6,4))\n",
    "plt.show()"
   ]
  },
  {
   "cell_type": "markdown",
   "id": "4f8e40cc",
   "metadata": {},
   "source": [
    "Больше всего объявлений с низкой популярностью"
   ]
  },
  {
   "cell_type": "code",
   "execution_count": 48,
   "id": "a0c3cf79",
   "metadata": {},
   "outputs": [],
   "source": [
    "#target_nums = {\"TARGET\": {\"low\": 1, \"medium\": 2, \"high\": 3}}\n",
    "#X = X.replace(target_nums)\n",
    "#X['TARGET']"
   ]
  },
  {
   "cell_type": "markdown",
   "id": "3d64f9e3",
   "metadata": {},
   "source": [
    "## Feature engineering"
   ]
  },
  {
   "cell_type": "code",
   "execution_count": 49,
   "id": "9e1be673",
   "metadata": {},
   "outputs": [],
   "source": [
    "from sklearn.preprocessing import StandardScaler\n",
    "from sklearn.model_selection import train_test_split\n",
    "from sklearn.metrics import accuracy_score, f1_score, confusion_matrix, classification_report\n",
    "from sklearn.linear_model import LogisticRegression\n",
    "from sklearn.tree import DecisionTreeClassifier\n",
    "from sklearn.svm import LinearSVC\n",
    "from sklearn.dummy import DummyClassifier\n",
    "from sklearn.ensemble import StackingClassifier, BaggingClassifier\n",
    "from sklearn.ensemble import RandomForestClassifier, GradientBoostingClassifier"
   ]
  },
  {
   "cell_type": "markdown",
   "id": "4892c7f5",
   "metadata": {},
   "source": [
    "Удалим лишние признаки"
   ]
  },
  {
   "cell_type": "code",
   "execution_count": 50,
   "id": "d520819c",
   "metadata": {},
   "outputs": [],
   "source": [
    "data = X.drop(columns=['created', 'street_address', 'listing_id', 'manager_id', 'photos', 'building_id']) "
   ]
  },
  {
   "cell_type": "code",
   "execution_count": 51,
   "id": "2cde9881",
   "metadata": {},
   "outputs": [
    {
     "name": "stdout",
     "output_type": "stream",
     "text": [
      "<class 'pandas.core.frame.DataFrame'>\n",
      "Int64Index: 34546 entries, 0 to 34422\n",
      "Data columns (total 31 columns):\n",
      " #   Column               Non-Null Count  Dtype  \n",
      "---  ------               --------------  -----  \n",
      " 0   bathrooms            34526 non-null  float64\n",
      " 1   bedrooms             34526 non-null  float64\n",
      " 2   latitude             34526 non-null  float64\n",
      " 3   longitude            34526 non-null  float64\n",
      " 4   price                34526 non-null  float64\n",
      " 5   TARGET               34526 non-null  object \n",
      " 6   month_year_cnt       34526 non-null  float64\n",
      " 7   week_year_cnt        34526 non-null  float64\n",
      " 8   month                34526 non-null  float64\n",
      " 9   day_of_week          34526 non-null  float64\n",
      " 10  hour                 34526 non-null  float64\n",
      " 11  weekday              34526 non-null  float64\n",
      " 12  description_words    34526 non-null  float64\n",
      " 13  no/reduced_fee       34526 non-null  float64\n",
      " 14  elevator             34526 non-null  float64\n",
      " 15  pets                 34526 non-null  float64\n",
      " 16  laundry              34526 non-null  float64\n",
      " 17  hardwood_floors      34526 non-null  float64\n",
      " 18  doorman              34526 non-null  float64\n",
      " 19  furniture            34526 non-null  float64\n",
      " 20  pre-war_building     34526 non-null  float64\n",
      " 21  sport                34526 non-null  float64\n",
      " 22  park/terrace/garden  34526 non-null  float64\n",
      " 23  internet             34526 non-null  float64\n",
      " 24  parking              34526 non-null  float64\n",
      " 25  nice_view            34526 non-null  float64\n",
      " 26  repair               34526 non-null  float64\n",
      " 27  subway               34526 non-null  float64\n",
      " 28  number_of_photos     34526 non-null  float64\n",
      " 29  cost_of_one_room     34526 non-null  float64\n",
      " 30  group                34546 non-null  object \n",
      "dtypes: float64(29), object(2)\n",
      "memory usage: 9.4+ MB\n"
     ]
    }
   ],
   "source": [
    "data.info()"
   ]
  },
  {
   "cell_type": "code",
   "execution_count": 52,
   "id": "f6b1fcff",
   "metadata": {},
   "outputs": [],
   "source": [
    "data = X.drop(columns=['month_year_cnt', 'week_year_cnt', 'month', 'building_id', 'created', 'listing_id',  'manager_id', 'photos', 'street_address', 'group'])"
   ]
  },
  {
   "cell_type": "markdown",
   "id": "264ecd32",
   "metadata": {},
   "source": [
    "Нормализируем данные"
   ]
  },
  {
   "cell_type": "code",
   "execution_count": 53,
   "id": "081a49d2",
   "metadata": {},
   "outputs": [],
   "source": [
    "cols = ['bathrooms', 'bedrooms', 'latitude', 'longitude', 'price', 'weekday', 'hour', 'description_words', 'number_of_photos']\n",
    "std_scaler = StandardScaler()\n",
    "std_scaler.fit(data[cols])\n",
    "std_scaled = std_scaler.transform(data[cols])\n",
    "\n",
    "std_cols = ['std_' + i for i in cols]\n",
    "data[std_cols] = std_scaled\n",
    "data = data.drop(columns=cols)"
   ]
  },
  {
   "cell_type": "code",
   "execution_count": 54,
   "id": "499c0136",
   "metadata": {},
   "outputs": [
    {
     "data": {
      "text/html": [
       "<div>\n",
       "<style scoped>\n",
       "    .dataframe tbody tr th:only-of-type {\n",
       "        vertical-align: middle;\n",
       "    }\n",
       "\n",
       "    .dataframe tbody tr th {\n",
       "        vertical-align: top;\n",
       "    }\n",
       "\n",
       "    .dataframe thead th {\n",
       "        text-align: right;\n",
       "    }\n",
       "</style>\n",
       "<table border=\"1\" class=\"dataframe\">\n",
       "  <thead>\n",
       "    <tr style=\"text-align: right;\">\n",
       "      <th></th>\n",
       "      <th>TARGET</th>\n",
       "      <th>day_of_week</th>\n",
       "      <th>no/reduced_fee</th>\n",
       "      <th>elevator</th>\n",
       "      <th>pets</th>\n",
       "      <th>laundry</th>\n",
       "      <th>hardwood_floors</th>\n",
       "      <th>doorman</th>\n",
       "      <th>furniture</th>\n",
       "      <th>pre-war_building</th>\n",
       "      <th>...</th>\n",
       "      <th>cost_of_one_room</th>\n",
       "      <th>std_bathrooms</th>\n",
       "      <th>std_bedrooms</th>\n",
       "      <th>std_latitude</th>\n",
       "      <th>std_longitude</th>\n",
       "      <th>std_price</th>\n",
       "      <th>std_weekday</th>\n",
       "      <th>std_hour</th>\n",
       "      <th>std_description_words</th>\n",
       "      <th>std_number_of_photos</th>\n",
       "    </tr>\n",
       "  </thead>\n",
       "  <tbody>\n",
       "    <tr>\n",
       "      <th>0</th>\n",
       "      <td>medium</td>\n",
       "      <td>3.0</td>\n",
       "      <td>1.0</td>\n",
       "      <td>1.0</td>\n",
       "      <td>0.0</td>\n",
       "      <td>1.0</td>\n",
       "      <td>0.0</td>\n",
       "      <td>0.0</td>\n",
       "      <td>0.0</td>\n",
       "      <td>0.0</td>\n",
       "      <td>...</td>\n",
       "      <td>1123.750000</td>\n",
       "      <td>-0.425748</td>\n",
       "      <td>1.306853</td>\n",
       "      <td>0.349686</td>\n",
       "      <td>-0.596713</td>\n",
       "      <td>0.023040</td>\n",
       "      <td>0.046142</td>\n",
       "      <td>3.158006</td>\n",
       "      <td>-0.145888</td>\n",
       "      <td>-0.764275</td>\n",
       "    </tr>\n",
       "    <tr>\n",
       "      <th>1</th>\n",
       "      <td>medium</td>\n",
       "      <td>3.0</td>\n",
       "      <td>1.0</td>\n",
       "      <td>0.0</td>\n",
       "      <td>1.0</td>\n",
       "      <td>0.0</td>\n",
       "      <td>0.0</td>\n",
       "      <td>0.0</td>\n",
       "      <td>0.0</td>\n",
       "      <td>0.0</td>\n",
       "      <td>...</td>\n",
       "      <td>1285.000000</td>\n",
       "      <td>-0.425748</td>\n",
       "      <td>-0.484315</td>\n",
       "      <td>-0.587783</td>\n",
       "      <td>-1.847256</td>\n",
       "      <td>-0.050116</td>\n",
       "      <td>0.046142</td>\n",
       "      <td>-0.660631</td>\n",
       "      <td>-1.427027</td>\n",
       "      <td>2.088167</td>\n",
       "    </tr>\n",
       "    <tr>\n",
       "      <th>2</th>\n",
       "      <td>low</td>\n",
       "      <td>2.0</td>\n",
       "      <td>0.0</td>\n",
       "      <td>1.0</td>\n",
       "      <td>0.0</td>\n",
       "      <td>0.0</td>\n",
       "      <td>1.0</td>\n",
       "      <td>0.0</td>\n",
       "      <td>0.0</td>\n",
       "      <td>0.0</td>\n",
       "      <td>...</td>\n",
       "      <td>1795.000000</td>\n",
       "      <td>-0.425748</td>\n",
       "      <td>-1.379899</td>\n",
       "      <td>0.730218</td>\n",
       "      <td>-0.079781</td>\n",
       "      <td>-0.079568</td>\n",
       "      <td>-0.512841</td>\n",
       "      <td>-0.660631</td>\n",
       "      <td>-0.760835</td>\n",
       "      <td>0.091457</td>\n",
       "    </tr>\n",
       "    <tr>\n",
       "      <th>3</th>\n",
       "      <td>low</td>\n",
       "      <td>3.0</td>\n",
       "      <td>1.0</td>\n",
       "      <td>1.0</td>\n",
       "      <td>0.0</td>\n",
       "      <td>1.0</td>\n",
       "      <td>1.0</td>\n",
       "      <td>1.0</td>\n",
       "      <td>1.0</td>\n",
       "      <td>0.0</td>\n",
       "      <td>...</td>\n",
       "      <td>1133.333333</td>\n",
       "      <td>-0.425748</td>\n",
       "      <td>0.411269</td>\n",
       "      <td>-1.076678</td>\n",
       "      <td>-1.051737</td>\n",
       "      <td>-0.018573</td>\n",
       "      <td>0.046142</td>\n",
       "      <td>0.055363</td>\n",
       "      <td>1.391479</td>\n",
       "      <td>-0.479031</td>\n",
       "    </tr>\n",
       "    <tr>\n",
       "      <th>4</th>\n",
       "      <td>low</td>\n",
       "      <td>3.0</td>\n",
       "      <td>0.0</td>\n",
       "      <td>0.0</td>\n",
       "      <td>0.0</td>\n",
       "      <td>1.0</td>\n",
       "      <td>1.0</td>\n",
       "      <td>0.0</td>\n",
       "      <td>1.0</td>\n",
       "      <td>0.0</td>\n",
       "      <td>...</td>\n",
       "      <td>1423.750000</td>\n",
       "      <td>-0.425748</td>\n",
       "      <td>1.306853</td>\n",
       "      <td>-0.232452</td>\n",
       "      <td>-0.927921</td>\n",
       "      <td>0.068643</td>\n",
       "      <td>0.046142</td>\n",
       "      <td>0.294028</td>\n",
       "      <td>0.537386</td>\n",
       "      <td>-0.764275</td>\n",
       "    </tr>\n",
       "  </tbody>\n",
       "</table>\n",
       "<p>5 rows × 27 columns</p>\n",
       "</div>"
      ],
      "text/plain": [
       "   TARGET  day_of_week  no/reduced_fee  elevator  pets  laundry  \\\n",
       "0  medium          3.0             1.0       1.0   0.0      1.0   \n",
       "1  medium          3.0             1.0       0.0   1.0      0.0   \n",
       "2     low          2.0             0.0       1.0   0.0      0.0   \n",
       "3     low          3.0             1.0       1.0   0.0      1.0   \n",
       "4     low          3.0             0.0       0.0   0.0      1.0   \n",
       "\n",
       "   hardwood_floors  doorman  furniture  pre-war_building  ...  \\\n",
       "0              0.0      0.0        0.0               0.0  ...   \n",
       "1              0.0      0.0        0.0               0.0  ...   \n",
       "2              1.0      0.0        0.0               0.0  ...   \n",
       "3              1.0      1.0        1.0               0.0  ...   \n",
       "4              1.0      0.0        1.0               0.0  ...   \n",
       "\n",
       "   cost_of_one_room  std_bathrooms  std_bedrooms  std_latitude  std_longitude  \\\n",
       "0       1123.750000      -0.425748      1.306853      0.349686      -0.596713   \n",
       "1       1285.000000      -0.425748     -0.484315     -0.587783      -1.847256   \n",
       "2       1795.000000      -0.425748     -1.379899      0.730218      -0.079781   \n",
       "3       1133.333333      -0.425748      0.411269     -1.076678      -1.051737   \n",
       "4       1423.750000      -0.425748      1.306853     -0.232452      -0.927921   \n",
       "\n",
       "   std_price  std_weekday  std_hour  std_description_words  \\\n",
       "0   0.023040     0.046142  3.158006              -0.145888   \n",
       "1  -0.050116     0.046142 -0.660631              -1.427027   \n",
       "2  -0.079568    -0.512841 -0.660631              -0.760835   \n",
       "3  -0.018573     0.046142  0.055363               1.391479   \n",
       "4   0.068643     0.046142  0.294028               0.537386   \n",
       "\n",
       "   std_number_of_photos  \n",
       "0             -0.764275  \n",
       "1              2.088167  \n",
       "2              0.091457  \n",
       "3             -0.479031  \n",
       "4             -0.764275  \n",
       "\n",
       "[5 rows x 27 columns]"
      ]
     },
     "execution_count": 54,
     "metadata": {},
     "output_type": "execute_result"
    }
   ],
   "source": [
    "data.head()"
   ]
  },
  {
   "cell_type": "markdown",
   "id": "f0d57e7f",
   "metadata": {},
   "source": [
    "## Выбор целевой метрики"
   ]
  },
  {
   "cell_type": "markdown",
   "id": "1277e158",
   "metadata": {},
   "source": [
    "нужно проклассифицировать объявления, будем смотеть на метрики: accuracy, f1-score, Precision, Recall. Метрику  accuracy можно назвать неэффективной, так как она требует выборки одинакового размера. \n",
    "\n",
    "Метрики Precision, Recall больше подходят нам, потому что они подходят для выборок разного размера"
   ]
  },
  {
   "cell_type": "markdown",
   "id": "c31cd51d",
   "metadata": {},
   "source": [
    "## Проведение экспериментов"
   ]
  },
  {
   "cell_type": "code",
   "execution_count": 55,
   "id": "3944951e",
   "metadata": {},
   "outputs": [],
   "source": [
    "data = data.dropna()"
   ]
  },
  {
   "cell_type": "code",
   "execution_count": 56,
   "id": "caa3b849",
   "metadata": {},
   "outputs": [],
   "source": [
    "X = data.drop(columns=['TARGET'])\n",
    "y = data['TARGET']\n",
    "\n",
    "X_train, X_test, y_train, y_test = train_test_split(X, y, test_size=0.25)"
   ]
  },
  {
   "cell_type": "code",
   "execution_count": 57,
   "id": "6c10dcc9",
   "metadata": {},
   "outputs": [
    {
     "name": "stdout",
     "output_type": "stream",
     "text": [
      "Train size: (25879, 26)\n",
      "Test size: (8627, 26)\n"
     ]
    }
   ],
   "source": [
    "print(f'Train size: {X_train.shape}')\n",
    "print(f'Test size: {X_test.shape}')"
   ]
  },
  {
   "cell_type": "code",
   "execution_count": 58,
   "id": "b043ebed",
   "metadata": {},
   "outputs": [],
   "source": [
    "def modeling(model, X_train, y_train, X_test) -> None:\n",
    "    model.fit(X_train, y_train)\n",
    "    y_pred = model.predict(X_test)\n",
    "    report = classification_report(y_test, y_pred)\n",
    "    print(report)"
   ]
  },
  {
   "cell_type": "markdown",
   "id": "a2fcf179",
   "metadata": {},
   "source": [
    "### CatBoost"
   ]
  },
  {
   "cell_type": "code",
   "execution_count": 59,
   "id": "9fb03bb5",
   "metadata": {},
   "outputs": [],
   "source": [
    "from sklearn.preprocessing import LabelEncoder\n",
    "from sklearn.preprocessing import Normalizer\n",
    "from sklearn.metrics import classification_report\n",
    "from sklearn.model_selection import train_test_split\n",
    "from sklearn.neighbors import KNeighborsClassifier\n",
    "from sklearn.tree import DecisionTreeClassifier\n",
    "from sklearn.naive_bayes import GaussianNB\n",
    "from sklearn.discriminant_analysis import LinearDiscriminantAnalysis\n",
    "from sklearn import svm\n",
    "from sklearn.neural_network import MLPClassifier\n",
    "from sklearn.metrics import f1_score\n",
    "from sklearn.ensemble import RandomForestClassifier\n",
    "from sklearn.ensemble import GradientBoostingClassifier\n",
    "\n",
    "import pickle\n",
    "from tqdm.notebook import trange, tqdm\n",
    "from catboost import CatBoostClassifier\n",
    "from collections import Counter"
   ]
  },
  {
   "cell_type": "code",
   "execution_count": 60,
   "id": "466b0459",
   "metadata": {},
   "outputs": [],
   "source": [
    "catboosting = CatBoostClassifier(metric_period=300)"
   ]
  },
  {
   "cell_type": "markdown",
   "id": "7948c904",
   "metadata": {},
   "source": [
    "Уберем пропуски"
   ]
  },
  {
   "cell_type": "code",
   "execution_count": 61,
   "id": "558e98d2",
   "metadata": {},
   "outputs": [],
   "source": [
    "data = data.dropna()"
   ]
  },
  {
   "cell_type": "code",
   "execution_count": 62,
   "id": "817d64dd",
   "metadata": {},
   "outputs": [
    {
     "name": "stdout",
     "output_type": "stream",
     "text": [
      "Learning rate set to 0.093408\n",
      "0:\tlearn: 1.0356022\ttotal: 74.9ms\tremaining: 1m 14s\n",
      "300:\tlearn: 0.5452083\ttotal: 1.6s\tremaining: 3.71s\n",
      "600:\tlearn: 0.4939515\ttotal: 3.12s\tremaining: 2.07s\n",
      "900:\tlearn: 0.4525373\ttotal: 4.66s\tremaining: 512ms\n",
      "999:\tlearn: 0.4406817\ttotal: 5.16s\tremaining: 0us\n",
      "              precision    recall  f1-score   support\n",
      "\n",
      "        high       0.55      0.26      0.35       689\n",
      "         low       0.79      0.92      0.85      5947\n",
      "      medium       0.47      0.31      0.38      1991\n",
      "\n",
      "    accuracy                           0.73      8627\n",
      "   macro avg       0.60      0.50      0.53      8627\n",
      "weighted avg       0.70      0.73      0.70      8627\n",
      "\n"
     ]
    }
   ],
   "source": [
    "modeling(catboosting, X_train, y_train, X_test)"
   ]
  },
  {
   "cell_type": "markdown",
   "id": "73db5ac5",
   "metadata": {},
   "source": [
    "Относительно хорошо предсказываются объявления с высокой популярностью. Лучше всего предсказываются с низкой."
   ]
  },
  {
   "cell_type": "markdown",
   "id": "56ce6a71",
   "metadata": {},
   "source": [
    "### Решающее дерево"
   ]
  },
  {
   "cell_type": "code",
   "execution_count": 63,
   "id": "2bc2370f",
   "metadata": {},
   "outputs": [],
   "source": [
    "tree = DecisionTreeClassifier(random_state=42)"
   ]
  },
  {
   "cell_type": "code",
   "execution_count": 64,
   "id": "3fcf8206",
   "metadata": {},
   "outputs": [
    {
     "name": "stdout",
     "output_type": "stream",
     "text": [
      "              precision    recall  f1-score   support\n",
      "\n",
      "        high       0.31      0.33      0.32       689\n",
      "         low       0.79      0.78      0.79      5947\n",
      "      medium       0.36      0.36      0.36      1991\n",
      "\n",
      "    accuracy                           0.65      8627\n",
      "   macro avg       0.49      0.49      0.49      8627\n",
      "weighted avg       0.65      0.65      0.65      8627\n",
      "\n"
     ]
    }
   ],
   "source": [
    "modeling(tree, X_train, y_train, X_test)"
   ]
  },
  {
   "cell_type": "markdown",
   "id": "6b9c2b88",
   "metadata": {},
   "source": [
    "Также хорошо предсказываются объявления с низкой популярностью. С высокой плоховато.."
   ]
  },
  {
   "cell_type": "markdown",
   "id": "b3847b66",
   "metadata": {},
   "source": [
    "### Логистическая регрессия"
   ]
  },
  {
   "cell_type": "code",
   "execution_count": 65,
   "id": "e726ba8d",
   "metadata": {},
   "outputs": [],
   "source": [
    "from sklearn.linear_model import LogisticRegression"
   ]
  },
  {
   "cell_type": "code",
   "execution_count": 66,
   "id": "e00c7d56",
   "metadata": {},
   "outputs": [
    {
     "name": "stdout",
     "output_type": "stream",
     "text": [
      "              precision    recall  f1-score   support\n",
      "\n",
      "        high       0.20      0.00      0.00       689\n",
      "         low       0.70      0.97      0.81      5947\n",
      "      medium       0.37      0.07      0.12      1991\n",
      "\n",
      "    accuracy                           0.68      8627\n",
      "   macro avg       0.42      0.35      0.31      8627\n",
      "weighted avg       0.58      0.68      0.59      8627\n",
      "\n"
     ]
    },
    {
     "name": "stderr",
     "output_type": "stream",
     "text": [
      "/Users/anastasiamyskina/opt/anaconda3/lib/python3.9/site-packages/sklearn/linear_model/_logistic.py:814: ConvergenceWarning: lbfgs failed to converge (status=1):\n",
      "STOP: TOTAL NO. of ITERATIONS REACHED LIMIT.\n",
      "\n",
      "Increase the number of iterations (max_iter) or scale the data as shown in:\n",
      "    https://scikit-learn.org/stable/modules/preprocessing.html\n",
      "Please also refer to the documentation for alternative solver options:\n",
      "    https://scikit-learn.org/stable/modules/linear_model.html#logistic-regression\n",
      "  n_iter_i = _check_optimize_result(\n"
     ]
    }
   ],
   "source": [
    "modeling(LogisticRegression(random_state=42), X_train, y_train, X_test)"
   ]
  },
  {
   "cell_type": "markdown",
   "id": "e0407f2e",
   "metadata": {},
   "source": [
    "Логистическая регрессия хорошо предсказывает объявления с низкой популярностью.  плохо предсказывает популярные объявления."
   ]
  },
  {
   "cell_type": "markdown",
   "id": "3191218a",
   "metadata": {},
   "source": [
    "### Бустинг"
   ]
  },
  {
   "cell_type": "code",
   "execution_count": 67,
   "id": "795b0eae",
   "metadata": {},
   "outputs": [
    {
     "data": {
      "text/plain": [
       "0.7202967427842819"
      ]
     },
     "execution_count": 67,
     "metadata": {},
     "output_type": "execute_result"
    }
   ],
   "source": [
    "boost = GradientBoostingClassifier()\n",
    "\n",
    "boost.fit(X_train, y_train)\n",
    "boost.score(X_test, y_test)"
   ]
  },
  {
   "cell_type": "markdown",
   "id": "4496f4ee",
   "metadata": {},
   "source": [
    "### Дерево решений"
   ]
  },
  {
   "cell_type": "code",
   "execution_count": 68,
   "id": "e8c4e21a",
   "metadata": {},
   "outputs": [
    {
     "name": "stdout",
     "output_type": "stream",
     "text": [
      "              precision    recall  f1-score   support\n",
      "\n",
      "        high       0.54      0.20      0.30       689\n",
      "         low       0.76      0.94      0.84      5947\n",
      "      medium       0.47      0.22      0.30      1991\n",
      "\n",
      "    accuracy                           0.72      8627\n",
      "   macro avg       0.59      0.46      0.48      8627\n",
      "weighted avg       0.67      0.72      0.67      8627\n",
      "\n"
     ]
    }
   ],
   "source": [
    "forest = RandomForestClassifier(n_estimators=30)\n",
    "\n",
    "modeling(forest, X_train, y_train, X_test)"
   ]
  },
  {
   "cell_type": "markdown",
   "id": "3bee85d1",
   "metadata": {},
   "source": [
    "**Вывод: Можно сделать вывод, что RandomForest показал наилучший результат на нормализованных данных.**"
   ]
  },
  {
   "cell_type": "code",
   "execution_count": null,
   "id": "a89494d7",
   "metadata": {},
   "outputs": [],
   "source": []
  }
 ],
 "metadata": {
  "kernelspec": {
   "display_name": "Python 3 (ipykernel)",
   "language": "python",
   "name": "python3"
  },
  "language_info": {
   "codemirror_mode": {
    "name": "ipython",
    "version": 3
   },
   "file_extension": ".py",
   "mimetype": "text/x-python",
   "name": "python",
   "nbconvert_exporter": "python",
   "pygments_lexer": "ipython3",
   "version": "3.9.12"
  }
 },
 "nbformat": 4,
 "nbformat_minor": 5
}
